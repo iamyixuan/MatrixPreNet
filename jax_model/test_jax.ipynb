{
 "cells": [
  {
   "cell_type": "code",
   "execution_count": 13,
   "metadata": {},
   "outputs": [
    {
     "name": "stdout",
     "output_type": "stream",
     "text": [
      "(3, 3)\n",
      "(3, 2)\n",
      "(2, 3)\n"
     ]
    }
   ],
   "source": [
    "import jax\n",
    "import jax.numpy as jnp\n",
    "from jax.experimental import sparse\n",
    "\n",
    "# create a sparse matrix\n",
    "A = jnp.array([[1, 0, 0], [0, 0, 2], [0, 3, 0]])\n",
    "A = sparse.BCOO.fromdense(A)\n",
    "print(A.shape)\n",
    "print(A.indices.shape)\n",
    "\n",
    "# create a random vector with shape (num_nonzero_elements, 1)\n",
    "x = jnp.array([[1, 2, 3], [3,4 ,5]]).reshape(2, -1)\n",
    "batch_idx = jnp.broadcast_to(A.indices, (2, ) + A.indices.shape)\n",
    "print(x.shape)\n",
    "\n",
    "B = sparse.BCOO((x, batch_idx), shape=(2,) + A.shape)"
   ]
  },
  {
   "cell_type": "code",
   "execution_count": 11,
   "metadata": {},
   "outputs": [],
   "source": [
    "# densify the sparse matrix\n",
    "B = B.todense()"
   ]
  },
  {
   "cell_type": "code",
   "execution_count": 12,
   "metadata": {},
   "outputs": [
    {
     "name": "stdout",
     "output_type": "stream",
     "text": [
      "[[1 0 0]\n",
      " [0 0 2]\n",
      " [0 3 0]]\n",
      "[[3 0 0]\n",
      " [0 0 4]\n",
      " [0 5 0]]\n"
     ]
    }
   ],
   "source": [
    "print(B[0])\n",
    "print(B[1])"
   ]
  },
  {
   "cell_type": "code",
   "execution_count": 19,
   "metadata": {},
   "outputs": [
    {
     "ename": "AttributeError",
     "evalue": "'BCOO' object has no attribute 'conj'",
     "output_type": "error",
     "traceback": [
      "\u001b[0;31m---------------------------------------------------------------------------\u001b[0m",
      "\u001b[0;31mAttributeError\u001b[0m                            Traceback (most recent call last)",
      "Cell \u001b[0;32mIn[19], line 1\u001b[0m\n\u001b[0;32m----> 1\u001b[0m B \u001b[38;5;241m@\u001b[39m \u001b[43mB\u001b[49m\u001b[38;5;241;43m.\u001b[39;49m\u001b[43mtranspose\u001b[49m\u001b[43m(\u001b[49m\u001b[43m(\u001b[49m\u001b[38;5;241;43m0\u001b[39;49m\u001b[43m,\u001b[49m\u001b[43m \u001b[49m\u001b[38;5;241;43m2\u001b[39;49m\u001b[43m,\u001b[49m\u001b[43m \u001b[49m\u001b[38;5;241;43m1\u001b[39;49m\u001b[43m)\u001b[49m\u001b[43m)\u001b[49m\u001b[38;5;241;43m.\u001b[39;49m\u001b[43mconj\u001b[49m()\n",
      "\u001b[0;31mAttributeError\u001b[0m: 'BCOO' object has no attribute 'conj'"
     ]
    }
   ],
   "source": [
    "B @ B.transpose((0, 2, 1))"
   ]
  },
  {
   "cell_type": "code",
   "execution_count": 25,
   "metadata": {},
   "outputs": [
    {
     "name": "stdout",
     "output_type": "stream",
     "text": [
      "tensor([[ 0,  1,  2,  3,  4],\n",
      "        [ 5,  6,  7,  8,  9],\n",
      "        [10, 11, 12, 13, 14],\n",
      "        [15, 16, 17, 18, 19],\n",
      "        [20, 21, 22, 23, 24]])\n"
     ]
    }
   ],
   "source": [
    "import torch\n",
    "A = torch.arange(5*5)\n",
    "A = A.reshape(5, 5)\n",
    "print(A)"
   ]
  },
  {
   "cell_type": "code",
   "execution_count": 30,
   "metadata": {},
   "outputs": [
    {
     "name": "stdout",
     "output_type": "stream",
     "text": [
      "tensor([[ 0,  1,  2,  3,  4],\n",
      "        [ 5,  6,  7,  8,  9],\n",
      "        [10, 11, 12, 13, 14],\n",
      "        [15, 16, 17, 18, 19],\n",
      "        [20, 21, 22, 23, 24]])\n",
      "torch.Size([1, 5, 5])\n",
      "tensor([[[ 93, 101, 109, 102, 100],\n",
      "         [ 83,  91,  99,  92,  90],\n",
      "         [ 48,  56,  64,  57,  55],\n",
      "         [ 88,  96, 104,  97,  95],\n",
      "         [128, 136, 144, 137, 135]]])\n"
     ]
    }
   ],
   "source": [
    "A = torch.arange(5*5)\n",
    "A = A.reshape(5, 5)\n",
    "print(A)\n",
    "B = torch.tensor([[0,0,1,1,1],\n",
    "                  [0,0,1,0,1],\n",
    "                  [0,0,1,1,1],\n",
    "                  [0,0,0,0,0],\n",
    "                  [0,0,0,0,0]])\n",
    "\n",
    "A = A[None,...]\n",
    "B = B[None,...]\n",
    "print(A.shape)\n",
    "A = torch.nn.functional.pad(A, (2, 2,2,2), 'circular')\n",
    "out = torch.nn.functional.conv2d(A, B[None,...], padding='valid')\n",
    "print(out)"
   ]
  },
  {
   "cell_type": "code",
   "execution_count": 29,
   "metadata": {},
   "outputs": [
    {
     "data": {
      "text/plain": [
       "tensor([[[ 93, 101, 109, 102, 100],\n",
       "         [ 83,  91,  99,  92,  90],\n",
       "         [ 48,  56,  64,  57,  55],\n",
       "         [ 88,  96, 104,  97,  95],\n",
       "         [128, 136, 144, 137, 135]]])"
      ]
     },
     "execution_count": 29,
     "metadata": {},
     "output_type": "execute_result"
    }
   ],
   "source": []
  },
  {
   "cell_type": "code",
   "execution_count": null,
   "metadata": {},
   "outputs": [],
   "source": []
  }
 ],
 "metadata": {
  "kernelspec": {
   "display_name": "jax",
   "language": "python",
   "name": "python3"
  },
  "language_info": {
   "codemirror_mode": {
    "name": "ipython",
    "version": 3
   },
   "file_extension": ".py",
   "mimetype": "text/x-python",
   "name": "python",
   "nbconvert_exporter": "python",
   "pygments_lexer": "ipython3",
   "version": "3.11.9"
  }
 },
 "nbformat": 4,
 "nbformat_minor": 2
}
